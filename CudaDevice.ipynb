{
 "cells": [
  {
   "cell_type": "code",
   "execution_count": 1,
   "id": "2a9c06ed-2831-436f-a58f-3d83ac8d5e23",
   "metadata": {},
   "outputs": [
    {
     "name": "stdout",
     "output_type": "stream",
     "text": [
      "Dispositivos disponibles en cuda: 1\n",
      "\n",
      "Nombre dispositivo: NVIDIA GeForce RTX 3060, arquitectura: (8, 6), memoria: 11.00 GB \n",
      "\n"
     ]
    }
   ],
   "source": [
    "import torch\n",
    "\n",
    "if torch.cuda.is_available():\n",
    "    num_devices = torch.cuda.device_count()\n",
    "    print(f'Dispositivos disponibles en cuda: {num_devices}\\n')\n",
    "\n",
    "    for i in range(num_devices):\n",
    "        device_name = torch.cuda.get_device_name(i)\n",
    "        # Arquitectura que muestra (capacidad principal de cálculo, capacidad mínima de cálculo), conforme mayor sea mas núcleos, mas eficientes\n",
    "        # resultan las operaciones matriciales y mayor número de carácteristicas avanzadas que puede soportar\n",
    "        device_cap = torch.cuda.get_device_capability(i)\n",
    "        device_memory = torch.cuda.get_device_properties(i).total_memory // (1024**3)\n",
    "        print(f'Nombre dispositivo: {device_name}, arquitectura: {device_cap}, memoria: {device_memory:.2f} GB \\n')"
   ]
  }
 ],
 "metadata": {
  "kernelspec": {
   "display_name": "Python 3 (ipykernel)",
   "language": "python",
   "name": "python3"
  },
  "language_info": {
   "codemirror_mode": {
    "name": "ipython",
    "version": 3
   },
   "file_extension": ".py",
   "mimetype": "text/x-python",
   "name": "python",
   "nbconvert_exporter": "python",
   "pygments_lexer": "ipython3",
   "version": "3.11.5"
  }
 },
 "nbformat": 4,
 "nbformat_minor": 5
}
